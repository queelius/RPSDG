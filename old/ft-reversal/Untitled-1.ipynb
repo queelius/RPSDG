{
 "cells": [
  {
   "cell_type": "code",
   "execution_count": 12,
   "metadata": {},
   "outputs": [
    {
     "name": "stdout",
     "output_type": "stream",
     "text": [
      "Expression: log(exp(x**2 + cos(x) + cos(x + 6))):\n",
      "Derivative: (2*x - sin(x) - sin(x + 6))*exp(-x**2 - cos(x) - cos(x + 6))*exp(x**2 + cos(x) + cos(x + 6))\n"
     ]
    }
   ],
   "source": [
    "import sympy as sp\n",
    "import random\n",
    "\n",
    "# Define symbols\n",
    "x = sp.symbols('x')\n",
    "\n",
    "# Basic operations and functions\n",
    "ops = [sp.Add, sp.Mul, sp.sin, sp.cos, sp.exp, sp.log]\n",
    "# Maximum depth of the expression tree\n",
    "max_depth = 5\n",
    "\n",
    "def random_expression(depth=0):\n",
    "    if depth >= max_depth:\n",
    "        # Return a leaf node (symbol or constant)\n",
    "        return random.choice([x, sp.Integer(random.randint(1, 10))])\n",
    "    else:\n",
    "        # Randomly select an operation or function\n",
    "        op = random.choice(ops)\n",
    "        if op in [sp.sin, sp.cos, sp.exp, sp.log]:  # Unary functions\n",
    "            return op(random_expression(depth + 1))\n",
    "        elif op in [sp.Add, sp.Mul]:  # Binary operations\n",
    "            return op(random_expression(depth + 1), random_expression(depth + 1))\n",
    "\n",
    "def generate_derivative_problem():\n",
    "    expr = random_expression()\n",
    "    derivative = sp.diff(expr, x)\n",
    "    print(f\"Expression: {expr}:\")\n",
    "    print(f\"Derivative: {derivative}\")\n",
    "\n",
    "\n",
    "# Generate and display a problem\n",
    "generate_derivative_problem()\n"
   ]
  },
  {
   "cell_type": "code",
   "execution_count": null,
   "metadata": {},
   "outputs": [],
   "source": []
  }
 ],
 "metadata": {
  "kernelspec": {
   "display_name": "finetuning",
   "language": "python",
   "name": "python3"
  },
  "language_info": {
   "codemirror_mode": {
    "name": "ipython",
    "version": 3
   },
   "file_extension": ".py",
   "mimetype": "text/x-python",
   "name": "python",
   "nbconvert_exporter": "python",
   "pygments_lexer": "ipython3",
   "version": "3.10.13"
  }
 },
 "nbformat": 4,
 "nbformat_minor": 2
}
